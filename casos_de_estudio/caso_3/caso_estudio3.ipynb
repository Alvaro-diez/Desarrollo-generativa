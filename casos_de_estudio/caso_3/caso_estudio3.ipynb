{
 "cells": [
  {
   "cell_type": "markdown",
   "id": "17f15ff4",
   "metadata": {},
   "source": [
    "# CASO DE ESTUDIO 3 - PREDICCION DEL PRECIO DEL ORO\n",
    "Predicción del precio del oro con redes LSTM"
   ]
  },
  {
   "cell_type": "markdown",
   "id": "4568e451",
   "metadata": {},
   "source": [
    "## 1. Business case discovery"
   ]
  },
  {
   "cell_type": "markdown",
   "id": "a9fd32e6",
   "metadata": {},
   "source": [
    "### 1.2 Contexto\n",
    "\n",
    "Optimizar inveriones en metales preciosos. El oro es afectado por **inflacion, tasas de interes, crisis geopoliticas, etc**. \n",
    "\n",
    "Se busca analisis de datos historicos del precio del oro *(XAU/USD)* y variables macroeconomicas para predecir su valor."
   ]
  },
  {
   "cell_type": "markdown",
   "id": "e129d746",
   "metadata": {},
   "source": [
    "### 1.3 Objetivo del proyecto\n",
    "\n",
    "Construir una LSTM que prediga el precio del oro para los proximos **5 dias habiles**. Se usaran:\n",
    "- Datos historicos diarios (2010-2024)\n",
    "- Indicadores macro: Indice dolar (DXY), tasas de interes FED, inflacion, etc\n",
    "- Metrica de exito: **RMSE < 2.5%**"
   ]
  },
  {
   "cell_type": "markdown",
   "id": "e8c85969",
   "metadata": {},
   "source": [
    "# 2. Preprocesamiento de datos"
   ]
  },
  {
   "cell_type": "markdown",
   "id": "bf9895c0",
   "metadata": {},
   "source": [
    "## 2.0.5 Importacion de librerias necesarias"
   ]
  },
  {
   "cell_type": "code",
   "execution_count": null,
   "id": "9ebd5973",
   "metadata": {},
   "outputs": [],
   "source": [
    "import tensorflow as tf\n",
    "import numpy as np\n",
    "import pandas as pd\n",
    "import matplotlib.pyploy as plt\n",
    "import seaborn as sns\n",
    "# from tensorflow.keras.callbacks import EarlyStopping\n",
    "# from sklearn.model_selection import KFold"
   ]
  },
  {
   "cell_type": "markdown",
   "id": "abc17bbb",
   "metadata": {},
   "source": [
    "## 2.1 Origen de datos\n",
    "- Precio: Yahoo Finance (`GC-F`)\n",
    "- Datos macro: Yahoo Finance"
   ]
  },
  {
   "cell_type": "code",
   "execution_count": null,
   "id": "96a622ae",
   "metadata": {},
   "outputs": [],
   "source": [
    "# Todos los datos necesarios se pueden obtener con estos tickers públicos:\n",
    "import yfinance as yf\n",
    "\n",
    "# 1. Precio del oro (futuros)\n",
    "df_oro = yf.download(\"GC=F\", start=\"2010-01-01\")\n",
    "\n",
    "# 2. Índice Dólar (DXY)\n",
    "df_dxy = yf.download(\"DX-Y.NYB\", start=\"2010-01-01\")  # Ticker correcto para DXY\n",
    "\n",
    "# 3. Bonos 10 años (^TNX como proxy de tasas de interés)\n",
    "df_bonos = yf.download(\"^TNX\", start=\"2010-01-01\")\n",
    "\n",
    "# 4. Inflación (usar ETF TIP como proxy)\n",
    "df_inflacion = yf.download(\"TIP\", start=\"2010-01-01\")  # ETF de bonos indexados a inflación\n",
    "\n",
    "df_oro.head()\n",
    "df_dxy.head()\n",
    "df_bonos.head()\n",
    "df_inflacion.head()"
   ]
  },
  {
   "cell_type": "code",
   "execution_count": null,
   "id": "d4d3f0ec",
   "metadata": {},
   "outputs": [],
   "source": [
    "dxy = df_dxy['Close']\n",
    "bonos = df_bonos['Close']\n",
    "tip = df_inflacion['Close']\n",
    "\n",
    "df = pd.concat([oro, dxy, bonos, tip], axis=1)\n",
    "df.columns = [\"Oro\", \"DXY\", \"Bonos_10y\", \"TIP\"]\n"
   ]
  },
  {
   "cell_type": "markdown",
   "id": "19f7ae18",
   "metadata": {},
   "source": [
    "## 2.2 Feature Engineering\n",
    "- **Ratio Oro/Dolar**: segun el USD (`Precio Oro / DXY`)\n",
    "- **Inflacion implicita**: Variacion porcentual mensual del ETF TIP (proxy para CPI)\n",
    "- **Tasa real aproximada**: Rendimiento bonos 10 años (^TNX - Inflacion implicita)"
   ]
  },
  {
   "cell_type": "code",
   "execution_count": null,
   "id": "fd398731",
   "metadata": {},
   "outputs": [],
   "source": [
    "df['Ratio_Oro_Dolar'] = df['Oro'] / df['DXY']\n",
    "\n",
    "llllllll # Para que de error antes\n",
    "# TODO\n",
    "df['Infla_implicita'] = df[''] / df['']\n",
    "\n",
    "df['Tasa_real_aprox'] = df['Bonos_10y'] - df['Infla_implicita']\n",
    "\n",
    "df.head()"
   ]
  },
  {
   "cell_type": "markdown",
   "id": "8b12a5e1",
   "metadata": {},
   "source": [
    "Variables técnicas (complementarias):\n",
    "\n",
    "- SMA de 200 días (identificar tendencias largas)\n",
    "- Bandas de Bollinger (volatilidad histórica)"
   ]
  },
  {
   "cell_type": "code",
   "execution_count": null,
   "id": "0b58940d",
   "metadata": {},
   "outputs": [],
   "source": [
    "# ?"
   ]
  },
  {
   "cell_type": "markdown",
   "id": "450a376e",
   "metadata": {},
   "source": [
    "## 2.4 Ventana temporal\n",
    "\n",
    "Estructurar los datos en secuencias de entrada-salida para entrenar la LSTM:\n",
    "\n",
    "- Look-back (ventana histórica): 90 días de datos (precio oro, DXY, inflación implícita, ratio oro/dólar, volatilidad) como entrada.\n",
    "- Forecast horizon (horizonte de predicción): 5 días futuros de precios de cierre del oro como salida.\n",
    "- Normalización robusta: Usar RobustScaler para manejar outliers en crisis económicas.\n",
    "- Reformateo: Transformar los datos en tensores 3D (muestras, pasos temporales, características) usando TimeseriesGenerator de Keras."
   ]
  },
  {
   "cell_type": "code",
   "execution_count": null,
   "id": "de266df2",
   "metadata": {},
   "outputs": [],
   "source": [
    "look_back = 90  # 3 meses bursátiles\n",
    "horizon = 5     # Predecir 5 días futuros\n",
    "\n",
    "data_trimmed = data_scaled[:len(data_scaled)-horizon]\n",
    "\n",
    "generator = TimeseriesGenerator(\n",
    "    data_scaled,\n",
    "    targets=data_trimmed[:, 0],  # Predecir solo el precio del oro (columna 0)\n",
    "    length=look_back,\n",
    "    batch_size=32,\n",
    "    sampling_rate=1,\n",
    "    stride=1,\n",
    "    shuffle=True\n",
    ")\n",
    "\n",
    "#Ejemplo de secuencia resultante\n",
    "X_sample, y_sample = generator[0]\n",
    "print(f\"Input shape: {X_sample.shape}\")  # (batch, 90 días, 5 features)\n",
    "print(f\"Target shape: {y_sample.shape}\") # (batch, 5 días a predecir)"
   ]
  },
  {
   "cell_type": "markdown",
   "id": "f00ac59f",
   "metadata": {},
   "source": [
    "## 2.5 Division de datos\n",
    "\n",
    "Dividir cronológicamente para preservar la integridad temporal:\n",
    "\n",
    "- **Entrenamiento (2010-2018)**: Datos con crisis históricas relevantes.\n",
    "- **Validación (2019-2020)**: Período COVID-19 para probar resiliencia ante shocks.\n",
    "- **Test (2021-2024)**: Datos recientes con alta inflación y tensión geopolítica."
   ]
  },
  {
   "cell_type": "code",
   "execution_count": null,
   "id": "8d9c2acd",
   "metadata": {},
   "outputs": [],
   "source": [
    "train = data.loc['2010':'2018']\n",
    "val = data.loc['2019':'2020']\n",
    "test = data.loc['2021':]\n",
    "\n",
    "print(train.shape)\n",
    "print(val.shape)\n",
    "print(test.shape)"
   ]
  },
  {
   "cell_type": "markdown",
   "id": "532321ef",
   "metadata": {},
   "source": [
    "> Tengo que separar en features y labels para el entrenamiento y validacion"
   ]
  },
  {
   "cell_type": "code",
   "execution_count": null,
   "id": "fac29f49",
   "metadata": {},
   "outputs": [],
   "source": [
    "# "
   ]
  },
  {
   "cell_type": "markdown",
   "id": "268e1a69",
   "metadata": {},
   "source": [
    "# 3. Model planning"
   ]
  },
  {
   "cell_type": "markdown",
   "id": "f68acccf",
   "metadata": {},
   "source": [
    "## 3.1 Definicion del problema\n",
    "\n",
    "El proyecto se enmarca como un problema de regresión multivariante secuencial, donde múltiples características (precio del oro, índice DXY, inflación, tasas de interés o volumen) se usan para predecir una secuencia futura. La LSTM es ideal por su capacidad para recordar patrones a largo plazo y gestionar dependencias temporales complejas, como ciclos macroeconómicos, crisis geopolíticas, y correlación histórica oro-dólar."
   ]
  },
  {
   "cell_type": "markdown",
   "id": "0513347f",
   "metadata": {},
   "source": [
    "## 3.2 Arquitectura de la red\n",
    "\n",
    "- **Capa LSTM *(192 unidades)***: Captura relaciones complejas en secuencias largas (90 días), incluyendo patrones de demanda física (ej: compras centrales bancarias).\n",
    "- **Dropout *(35%)***: Aleatoriza la desactivación de neuronas para contrarrestar sobreajuste en datos con eventos black-swan (ej: crisis 2008, COVID-19).\n",
    "- **Capa LSTM *(96 unidades)***: Refina los patrones aprendidos, enfocándose en dependencias macroeconómicas a mediano plazo (ej: impacto de reuniones de la FED).\n",
    "- **Capa Densa *(5 neuronas)***: Genera predicciones para los 5 días futuros, usando activación lineal para regresión."
   ]
  },
  {
   "cell_type": "markdown",
   "id": "d69dc498",
   "metadata": {},
   "source": [
    "## 3.3 Función de Pérdida y Optimizador\n",
    "\n",
    "- **Función de pérdida**: Error cuadrático medio (***MSE***) con ponderación exponencial (da 2x más peso a errores en períodos de alta volatilidad).\n",
    "- **Optimizador**: ***Adam*** con tasa de aprendizaje variable (lr=0.001 inicial, reduciendo a 0.0001 después de 50 épocas).\n",
    "- **Métricas adicionales**:\n",
    "    - ***MAE***: Error absoluto medio\n",
    "    - ***Directional Accuracy***: Precisión direccional personalizada para oro (umbral de ±0.8% para considerar movimiento significativo)"
   ]
  },
  {
   "cell_type": "markdown",
   "id": "ab5866e4",
   "metadata": {},
   "source": [
    "### 3.3.1 Creacion de la tasa de aprendizaje variable\n"
   ]
  },
  {
   "cell_type": "code",
   "execution_count": null,
   "id": "7081b630",
   "metadata": {},
   "outputs": [],
   "source": [
    "# Crear un callback para cambiar el learning rate después de 50 épocas\n",
    "def scheduler(epoch, lr):\n",
    "    if epoch == 50:\n",
    "        return 0.0001\n",
    "    else:\n",
    "        return lr\n",
    "\n",
    "lr_callback = tf.keras.callbacks.LearningRateScheduler(scheduler)"
   ]
  },
  {
   "cell_type": "markdown",
   "id": "0bf026f2",
   "metadata": {},
   "source": [
    "## 3.4 Estrategias Contra el Sobreajuste (OPCIONAL si lo ves necesario)\n",
    "\n",
    "1. **Early Stopping**: Detener entrenamiento si pérdida en validación no mejora en 15 épocas\n",
    "2. **Regularización L2 (λ=0.001)**: Aplicada solo a capas LSTM para evitar sobre-énfasis en features macroeconómicas.\n",
    "3. **Aumentación de datos**: **<u>(OPCIONAL)</u>**\n",
    "    - **Ruido gaussiano (σ=0.2)**: en secuencias de entrenamiento\n",
    "    - **Time Warping**: Deformaciones temporales controladas (±5 días) para simular ciclos económicos acelerados/retrasados"
   ]
  },
  {
   "cell_type": "markdown",
   "id": "20593dff",
   "metadata": {},
   "source": [
    "# 4. Model building"
   ]
  },
  {
   "cell_type": "markdown",
   "id": "ca948493",
   "metadata": {},
   "source": [
    "## 4.1 Creacion y complicacion del modelo"
   ]
  },
  {
   "cell_type": "code",
   "execution_count": null,
   "id": "3f81cbc8",
   "metadata": {},
   "outputs": [],
   "source": [
    "def create_model():\n",
    "    model = tf.keras.Sequential([\n",
    "        tf.keras.layers.Input(shape=(90, 6)),\n",
    "        tf.keras.layers.LSTM(192),\n",
    "        tf.keras.layers.Dropout(0.35),\n",
    "\n",
    "        tf.keras.layers.LSTM(96),\n",
    "        tf.keras.layers.Dense(5) # Prediccion para 5 dias\n",
    "    ])\n",
    "\n",
    "    model.compile(\n",
    "        optimizer=tf.keras.optimizers.Adam(learning_rate=0.001),\n",
    "        loss=tf.keras.losses.MSE(),\n",
    "        metrics=[\n",
    "            tf.keras.metrics.MeanAbsoluteError(),\n",
    "            tf.keras.metrics.RootMeanSquaredError()\n",
    "        ]\n",
    "    )\n",
    "    return model"
   ]
  },
  {
   "cell_type": "markdown",
   "id": "e55c56f8",
   "metadata": {},
   "source": [
    "## 4.2 Entrenamiento del modelo"
   ]
  },
  {
   "cell_type": "code",
   "execution_count": null,
   "id": "306d74b7",
   "metadata": {},
   "outputs": [],
   "source": [
    "if tf.config.list_physical_devices(\"GPU\"):\n",
    "    print(\"Usando GPU\")\n",
    "    with tf.device(\"GPU:0\"):\n",
    "        model = create_model()\n",
    "        \n",
    "        # TODO\n",
    "        model.fit(\n",
    "            x_train, y_train,\n",
    "            epochs=1000,\n",
    "            validation_data=(x_val, y_val),\n",
    "            callbacks=[lr_callback]\n",
    "        )\n",
    "else\n",
    "    print(\"Sin GPU\")"
   ]
  },
  {
   "cell_type": "code",
   "execution_count": null,
   "id": "0cb95dcb",
   "metadata": {},
   "outputs": [],
   "source": [
    "# TODO\n",
    "results = model.evaluate(x_test, y_test, verbose=0)\n",
    "\n",
    "metric_names = ['Loss', '', ]\n",
    "\n",
    "for name, result in zip(metric_names, results):\n",
    "    if name=='Loss':\n",
    "        print(f\"{name}: {result}\")\n",
    "    else:\n",
    "        print(f\"{name}: {result * 100:.2f}\")"
   ]
  },
  {
   "cell_type": "markdown",
   "id": "82587680",
   "metadata": {},
   "source": [
    "# 5. Presentacion de resultados"
   ]
  },
  {
   "cell_type": "markdown",
   "id": "fa54e9a3",
   "metadata": {},
   "source": [
    "# 6. Deployment"
   ]
  }
 ],
 "metadata": {
  "language_info": {
   "name": "python"
  }
 },
 "nbformat": 4,
 "nbformat_minor": 5
}
