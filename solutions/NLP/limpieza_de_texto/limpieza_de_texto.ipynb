{
 "cells": [
  {
   "cell_type": "markdown",
   "id": "14bc128f",
   "metadata": {},
   "source": [
    "# Práctica Integrada: Pipeline de Preprocesamiento para Análisis de Feedback en E-Commerce\n",
    "\n",
    "Esta práctica busca crear un pipeline robusto que preserve formatos útiles y limpie lo irrelevante."
   ]
  },
  {
   "cell_type": "markdown",
   "id": "54bacffc",
   "metadata": {},
   "source": [
    "## Fase 0: Importacion de librerias"
   ]
  },
  {
   "cell_type": "code",
   "execution_count": 1,
   "id": "f6f29b2f",
   "metadata": {},
   "outputs": [
    {
     "name": "stdout",
     "output_type": "stream",
     "text": [
      "Requirement already satisfied: emoji in c:\\users\\alvar\\onedrive - tajamar\\iagen-desarrollo\\.venv\\lib\\site-packages (2.14.1)\n",
      "Note: you may need to restart the kernel to use updated packages.\n"
     ]
    },
    {
     "name": "stderr",
     "output_type": "stream",
     "text": [
      "\n",
      "[notice] A new release of pip available: 22.3 -> 25.1.1\n",
      "[notice] To update, run: python.exe -m pip install --upgrade pip\n"
     ]
    },
    {
     "name": "stdout",
     "output_type": "stream",
     "text": [
      "Requirement already satisfied: dateparser in c:\\users\\alvar\\onedrive - tajamar\\iagen-desarrollo\\.venv\\lib\\site-packages (1.2.1)\n",
      "Requirement already satisfied: python-dateutil>=2.7.0 in c:\\users\\alvar\\onedrive - tajamar\\iagen-desarrollo\\.venv\\lib\\site-packages (from dateparser) (2.9.0.post0)\n",
      "Requirement already satisfied: pytz>=2024.2 in c:\\users\\alvar\\onedrive - tajamar\\iagen-desarrollo\\.venv\\lib\\site-packages (from dateparser) (2025.1)\n",
      "Requirement already satisfied: regex!=2019.02.19,!=2021.8.27,>=2015.06.24 in c:\\users\\alvar\\onedrive - tajamar\\iagen-desarrollo\\.venv\\lib\\site-packages (from dateparser) (2024.11.6)\n",
      "Requirement already satisfied: tzlocal>=0.2 in c:\\users\\alvar\\onedrive - tajamar\\iagen-desarrollo\\.venv\\lib\\site-packages (from dateparser) (5.3.1)\n",
      "Requirement already satisfied: six>=1.5 in c:\\users\\alvar\\onedrive - tajamar\\iagen-desarrollo\\.venv\\lib\\site-packages (from python-dateutil>=2.7.0->dateparser) (1.17.0)\n",
      "Requirement already satisfied: tzdata in c:\\users\\alvar\\onedrive - tajamar\\iagen-desarrollo\\.venv\\lib\\site-packages (from tzlocal>=0.2->dateparser) (2025.1)\n",
      "Note: you may need to restart the kernel to use updated packages.\n"
     ]
    },
    {
     "name": "stderr",
     "output_type": "stream",
     "text": [
      "\n",
      "[notice] A new release of pip available: 22.3 -> 25.1.1\n",
      "[notice] To update, run: python.exe -m pip install --upgrade pip\n"
     ]
    }
   ],
   "source": [
    "%pip install emoji\n",
    "%pip install dateparser"
   ]
  },
  {
   "cell_type": "code",
   "execution_count": 2,
   "id": "577288b6",
   "metadata": {},
   "outputs": [],
   "source": [
    "import json\n",
    "import re\n",
    "import emoji\n",
    "import dateparser\n",
    "import spacy"
   ]
  },
  {
   "cell_type": "markdown",
   "id": "87e23b22",
   "metadata": {},
   "source": [
    "## Fase 1: Limpieza Contextual de Texto"
   ]
  },
  {
   "cell_type": "code",
   "execution_count": 3,
   "id": "54d41d1f",
   "metadata": {},
   "outputs": [
    {
     "name": "stdout",
     "output_type": "stream",
     "text": [
      "{'input': '🔥¡OFERTA! Compre 2x zapatos Nike a $99.99 (antes $150) 👟. ¡Válido hasta el 30/11/2023! Visita https://marketmind.com/oferta-nike. Atención @MariaP: ¿Envío gratis? 😃 #ModaDeportiva2023.'}\n"
     ]
    }
   ],
   "source": [
    "# Cargar datos\n",
    "with open(\"validation_samples.json\", \"r\", encoding=\"utf-8\") as f:\n",
    "    samples = json.load(f)\n",
    "print(samples[0])\n"
   ]
  },
  {
   "cell_type": "markdown",
   "id": "46b13f2c",
   "metadata": {},
   "source": [
    "Texto de muestra a limpiar\n",
    "\n",
    "`🔥¡OFERTA! Compre 2x zapatos Nike a $99.99 (antes $150) 👟. ¡Válido hasta el 30/11/2023! Visita https://marketmind.com/oferta-nike. Atención @MariaP: ¿Envío gratis? 😃 #ModaDeportiva2023.`"
   ]
  },
  {
   "cell_type": "code",
   "execution_count": 4,
   "id": "8ded44d4",
   "metadata": {},
   "outputs": [],
   "source": [
    "\n",
    "def limpiar_texto(texto):\n",
    "    protegidos = []\n",
    "\n",
    "    def proteger(match):\n",
    "        protegidos.append(match.group(0))\n",
    "        return f\"__PROT{len(protegidos)-1}__\"\n",
    "\n",
    "    # Regex para detectar $99.99, 25%, 3/4, etc.\n",
    "    texto = re.sub(r\"\\$?\\d+(?:[.,]\\d+)?%?|\\d+/\\d+\", proteger, texto)\n",
    "\n",
    "    # Eliminar URLs y handles\n",
    "    texto = re.sub(r\"https?://\\S+|www\\.\\S+|@\\w+\", \"\", texto)\n",
    "    \n",
    "    # Eliminar signos de puntuación no deseados (excepto ! ? % $ /)\n",
    "    texto = re.sub(r\"[\\.,;:()\\[\\]\\\"'\\\\]\", \"\", texto)\n",
    "    \n",
    "    # Unificar espacios\n",
    "    texto = re.sub(r\"\\s+\", \" \", texto).strip()\n",
    "\n",
    "    for i, val in enumerate(protegidos):\n",
    "        texto = texto.replace(f\"__PROT{i}__\", val)\n",
    "    \n",
    "    return texto\n"
   ]
  },
  {
   "cell_type": "code",
   "execution_count": 5,
   "id": "4f31f0a9",
   "metadata": {},
   "outputs": [
    {
     "name": "stdout",
     "output_type": "stream",
     "text": [
      "¡Buen servicio! Entrega en 2 días hábiles Precio final $200 + IVA 21% Gracias MarketMind\n"
     ]
    }
   ],
   "source": [
    "\n",
    "print(limpiar_texto(samples[6][\"input\"]))\n"
   ]
  },
  {
   "cell_type": "markdown",
   "id": "8ac53cd4",
   "metadata": {},
   "source": [
    "## 🔄 Fase 2: Normalización de Números y Unidades"
   ]
  },
  {
   "cell_type": "code",
   "execution_count": 6,
   "id": "907979b9",
   "metadata": {},
   "outputs": [],
   "source": [
    "\n",
    "def normalizar_numeros(texto):\n",
    "    \n",
    "    # Normalizar fechas\n",
    "    fechas = re.findall(r\"\\d{2,4}/\\d{2,4}/\\d{2,4}\", texto)\n",
    "    for fecha in fechas:\n",
    "        try:\n",
    "            fecha_iso = dateparser.parse(fecha).strftime(\"%Y-%m-%d\")\n",
    "            texto = texto.replace(fecha, fecha_iso)\n",
    "        except:\n",
    "            print(\"no se puede parsear fecha\")\n",
    "            continue \n",
    "\n",
    "    # Monedas\n",
    "    texto = re.sub(r\"\\$\\s?(\\d+(\\.\\d{1,2})?)\", r\"<USD>\\1\", texto)\n",
    "    texto = re.sub(r\"(\\d+(\\.\\d{1,2})?)\\$\", r\"<USD>\\1\", texto)\n",
    "    texto = re.sub(r\"(\\d+(?:[.,]\\d+)?)\\s?USD\", r\"<USD>\\1\", texto)\n",
    "    texto = re.sub(r\"(\\d+(?:[.,]\\d+)?)\\s?EUR\", r\"<EUR>\\1\", texto)\n",
    "    texto = re.sub(r\"(\\d+(\\.\\d{1,2})?)€\", r\"<EUR>\\1\", texto)\n",
    "    texto = re.sub(r\"€\\s?(\\d+(\\.\\d{1,2})?)\", r\"<EUR>\\1\", texto)\n",
    "    \n",
    "    # Unidades\n",
    "    texto = re.sub(r\"\\b(\\d+)x\\b\", r\"\\1_unidades\", texto)  # 2x → 2_unidades\n",
    "    texto = re.sub(r\"\\b(\\d+)(kg|ml)\\b\", r\"\\1_\\2\", texto)  # 3kg → 3_kg\n",
    "\n",
    "    # Proteger porcentajes\n",
    "    porcentajes = re.findall(r\"\\d{1,3}%\", texto)\n",
    "    for i, p in enumerate(porcentajes):\n",
    "        texto = texto.replace(p, f\"__PORC{i}__\")\n",
    "    \n",
    "    # Reemplazar números sueltos (≥2 dígitos) que no estén ya como unidades, monedas o fechas\n",
    "    # Protegemos lo que ya se ha normalizado\n",
    "    protegidos = re.findall(r\"<USD>\\d+(?:[\\.,]\\d+)?|<EUR>\\d+(?:[\\.,]\\d+)?|\\d+_(?:unidades|kg|ml)|\\d{4}-\\d{2}-\\d{2}|__PORC\\d+__\", texto)\n",
    "    tokens_protegidos = {p: f\"__PROT{idx}__\" for idx, p in enumerate(protegidos)}\n",
    "    for original, marcador in tokens_protegidos.items():\n",
    "        texto = texto.replace(original, marcador)\n",
    "\n",
    "    # Ahora sí: reemplazar números sueltos ≥1 dígitos\n",
    "    texto = re.sub(r\"\\b\\d{1,}\\b\", \"<NUM>\", texto)\n",
    "    # Restaurar protegidos\n",
    "    for original, marcador in tokens_protegidos.items():\n",
    "        texto = texto.replace(marcador, original)\n",
    "\n",
    "    # Restaurar porcentajes\n",
    "    for i, p in enumerate(porcentajes):\n",
    "        texto = texto.replace(f\"__PORC{i}__\", p)\n",
    "\n",
    "    return texto\n"
   ]
  },
  {
   "cell_type": "code",
   "execution_count": 7,
   "id": "95c4708c",
   "metadata": {},
   "outputs": [
    {
     "name": "stdout",
     "output_type": "stream",
     "text": [
      "¡Buen servicio! Entrega en <NUM> días hábiles Precio final <USD>200 + IVA 21% Gracias MarketMind\n"
     ]
    }
   ],
   "source": [
    "texto = limpiar_texto(samples[6][\"input\"])\n",
    "print(normalizar_numeros(texto))\n"
   ]
  },
  {
   "cell_type": "markdown",
   "id": "7d6fa180",
   "metadata": {},
   "source": [
    "## 🔤 Fase 3: Normalización de Mayúsculas con Reconocimiento de Entidades"
   ]
  },
  {
   "cell_type": "code",
   "execution_count": 8,
   "id": "d7fbc66a",
   "metadata": {},
   "outputs": [
    {
     "name": "stdout",
     "output_type": "stream",
     "text": [
      "Collecting es-core-news-lg==3.8.0\n",
      "  Downloading https://github.com/explosion/spacy-models/releases/download/es_core_news_lg-3.8.0/es_core_news_lg-3.8.0-py3-none-any.whl (568.0 MB)\n",
      "     -------------------------------------- 568.0/568.0 MB 6.0 MB/s eta 0:00:00\n",
      "\u001b[38;5;2m✔ Download and installation successful\u001b[0m\n",
      "You can now load the package via spacy.load('es_core_news_lg')\n"
     ]
    },
    {
     "name": "stderr",
     "output_type": "stream",
     "text": [
      "\n",
      "[notice] A new release of pip available: 22.3 -> 25.1.1\n",
      "[notice] To update, run: python.exe -m pip install --upgrade pip\n"
     ]
    }
   ],
   "source": [
    "!python -m spacy download es_core_news_lg"
   ]
  },
  {
   "cell_type": "code",
   "execution_count": 9,
   "id": "cdaf58c2",
   "metadata": {},
   "outputs": [],
   "source": [
    "def proteger_etiquetas(texto):\n",
    "    etiquetas = re.findall(r\"<(?:USD|EUR)>\\d+(?:[.,]\\d+)?\", texto)\n",
    "    numericos = re.findall(r\"<NUM>?\", texto)\n",
    "    hashtags = re.findall(r\"#\\w+\", texto)\n",
    "\n",
    "    protegidos = etiquetas + numericos + hashtags\n",
    "    tokens_protegidos = {etiqueta: f\"PROT{idx}XYZ\" for idx, etiqueta in enumerate(protegidos)}\n",
    "    \n",
    "    for original, marcador in tokens_protegidos.items():\n",
    "        texto = texto.replace(original, marcador)\n",
    "\n",
    "    return texto, tokens_protegidos\n",
    "\n",
    "def restaurar_etiquetas(texto, tokens_protegidos):\n",
    "    for original, marcador in tokens_protegidos.items():\n",
    "        texto = texto.replace(marcador, original)\n",
    "    return texto\n"
   ]
  },
  {
   "cell_type": "code",
   "execution_count": 10,
   "id": "382666c4",
   "metadata": {},
   "outputs": [],
   "source": [
    "nlp = spacy.load(\"es_core_news_lg\")\n",
    "\n",
    "marcas_manual = {\"Nike\", \"Zara\", \"iPhone\", \"Canon\"}\n",
    "\n",
    "def normalizar_mayusculas(texto):\n",
    "    texto, tokens_protegidos = proteger_etiquetas(texto)\n",
    "    doc = nlp(texto)\n",
    "    resultado = []\n",
    "    \n",
    "    for token in doc:\n",
    "        # print(token.text, token.pos_, token.text.isalpha(), token.text.istitle(), token.ent_type_)\n",
    "        if token.text in tokens_protegidos.values():\n",
    "            resultado.append(token.text)\n",
    "        elif token.text in marcas_manual:\n",
    "            resultado.append(token.text)\n",
    "        elif token.text.isalpha() and token.text.istitle():\n",
    "            resultado.append(token.text.lower())\n",
    "        elif token.ent_type_ in {\"ORG\", \"LOC\", \"PRODUCT\", \"GPE\"}:\n",
    "            resultado.append(token.text)\n",
    "        elif token.text.startswith(\"#\"):\n",
    "            resultado.append(token.text)\n",
    "        else:\n",
    "            resultado.append(token.text.lower()) \n",
    "    \n",
    "    \n",
    "    texto_final = \" \".join(resultado)\n",
    "    texto_final = restaurar_etiquetas(texto_final, tokens_protegidos)\n",
    "    return texto_final\n"
   ]
  },
  {
   "cell_type": "code",
   "execution_count": 11,
   "id": "5dc4e79c",
   "metadata": {},
   "outputs": [
    {
     "name": "stdout",
     "output_type": "stream",
     "text": [
      "¡ buen servicio ! entrega en <NUM> días hábiles precio final <USD>200 + iva 21% gracias MarketMind\n"
     ]
    }
   ],
   "source": [
    "\n",
    "texto_final = normalizar_mayusculas(normalizar_numeros(limpiar_texto(samples[6][\"input\"])))\n",
    "print(texto_final)\n"
   ]
  },
  {
   "cell_type": "code",
   "execution_count": 12,
   "id": "42470a1f",
   "metadata": {},
   "outputs": [],
   "source": [
    "output = []\n",
    "\n",
    "for texto in samples:\n",
    "    extraido = texto[\"input\"]\n",
    "    limpiado = normalizar_mayusculas(normalizar_numeros(limpiar_texto(extraido)))\n",
    "    output.append({\"output\": limpiado})\n",
    "    \n",
    "with open(\"output_limpiado.json\", \"w\", encoding=\"utf-8\") as outfile:\n",
    "    json.dump(output, outfile, ensure_ascii=False, indent=4)\n"
   ]
  }
 ],
 "metadata": {
  "kernelspec": {
   "display_name": ".venv",
   "language": "python",
   "name": "python3"
  },
  "language_info": {
   "codemirror_mode": {
    "name": "ipython",
    "version": 3
   },
   "file_extension": ".py",
   "mimetype": "text/x-python",
   "name": "python",
   "nbconvert_exporter": "python",
   "pygments_lexer": "ipython3",
   "version": "3.11.0"
  }
 },
 "nbformat": 4,
 "nbformat_minor": 5
}
