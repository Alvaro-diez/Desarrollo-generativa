{
 "cells": [
  {
   "cell_type": "markdown",
   "id": "14bc128f",
   "metadata": {},
   "source": [
    "# 🧹 Práctica Integrada: Pipeline de Preprocesamiento para Análisis de Feedback en E-Commerce"
   ]
  },
  {
   "cell_type": "markdown",
   "id": "923222cb",
   "metadata": {},
   "source": [
    "\n",
    "### 🛍️ Contexto Empresarial\n",
    "MarketMind analiza comentarios de clientes y tweets en inglés y español. El modelo fine-tuned de GPT-4 genera resúmenes erróneos debido a entradas mal preprocesadas: URLs, precios y emoticones sin normalizar.\n",
    "\n",
    "Esta práctica busca crear un pipeline robusto que preserve formatos útiles y limpie lo irrelevante.\n"
   ]
  },
  {
   "cell_type": "markdown",
   "id": "87e23b22",
   "metadata": {},
   "source": [
    "## 🔧 Fase 1: Limpieza Contextual de Texto"
   ]
  },
  {
   "cell_type": "code",
   "execution_count": null,
   "id": "54d41d1f",
   "metadata": {},
   "outputs": [],
   "source": [
    "\n",
    "import json\n",
    "import re\n",
    "import emoji\n",
    "\n",
    "# Cargar datos\n",
    "with open(\"validation_samples.json\", \"r\", encoding=\"utf-8\") as f:\n",
    "    samples = json.load(f)\n",
    "print(samples[0])\n"
   ]
  },
  {
   "cell_type": "code",
   "execution_count": null,
   "id": "8ded44d4",
   "metadata": {},
   "outputs": [],
   "source": [
    "\n",
    "def limpiar_texto(texto):\n",
    "    # Eliminar URLs y handles\n",
    "    texto = re.sub(r\"https?://\\S+|www\\.\\S+\", \"\", texto)\n",
    "    texto = re.sub(r\"@\\w+\", \"\", texto)\n",
    "    \n",
    "    # Eliminar signos de puntuación no deseados (excepto ! ? % $ /)\n",
    "    texto = re.sub(r\"[\\.,;:()\\[\\]\"'\\\\]\", \"\", texto)\n",
    "    \n",
    "    # Preservar emoticones con emoji\n",
    "    texto = emoji.demojize(texto, delimiters=(\"\", \"\"))  # No los elimina\n",
    "    \n",
    "    # Unificar espacios\n",
    "    texto = re.sub(r\"\\s+\", \" \", texto).strip()\n",
    "    \n",
    "    return texto\n"
   ]
  },
  {
   "cell_type": "code",
   "execution_count": null,
   "id": "4f31f0a9",
   "metadata": {},
   "outputs": [],
   "source": [
    "\n",
    "texto_prueba = \"🔥 OFERTA Compre 2x zapatos Nike a $99.99 antes $150 👟\\nVálido hasta el 30/11/2023 Atención ¿Envío gratis 😃 #ModaDeportiva2023\"\n",
    "print(limpiar_texto(texto_prueba))\n"
   ]
  },
  {
   "cell_type": "markdown",
   "id": "8ac53cd4",
   "metadata": {},
   "source": [
    "## 🔄 Fase 2: Normalización de Números y Unidades"
   ]
  },
  {
   "cell_type": "code",
   "execution_count": null,
   "id": "907979b9",
   "metadata": {},
   "outputs": [],
   "source": [
    "\n",
    "import dateparser\n",
    "\n",
    "def normalizar_numeros(texto):\n",
    "    # Normalizar fechas\n",
    "    fechas = re.findall(r\"\\b\\d{2}/\\d{2}/\\d{4}\\b\", texto)\n",
    "    for fecha in fechas:\n",
    "        fecha_iso = dateparser.parse(fecha).strftime(\"%Y-%m-%d\")\n",
    "        texto = texto.replace(fecha, fecha_iso)\n",
    "\n",
    "    # Monedas\n",
    "    texto = re.sub(r\"\\$\\s?(\\d+(\\.\\d{1,2})?)\", r\"<USD>\\1\", texto)\n",
    "    texto = re.sub(r\"(\\d+(\\.\\d{1,2})?)\\$\", r\"<USD>\\1\", texto)\n",
    "    texto = re.sub(r\"(\\d+(\\.\\d{1,2})?)€\", r\"<EUR>\\1\", texto)\n",
    "    \n",
    "    # Unidades\n",
    "    texto = re.sub(r\"\\b(\\d+)(x|kg|ml)\\b\", r\"\\1_\\2\", texto)\n",
    "    \n",
    "    # Reemplazar números genéricos que no sean parte de lo anterior\n",
    "    texto = re.sub(r\"(?<!<USD>|<EUR>|\\d_)(?<!\\d/)\\b\\d{2,}\\b(?!%)\", \"<NUM>\", texto)\n",
    "    \n",
    "    return texto\n"
   ]
  },
  {
   "cell_type": "code",
   "execution_count": null,
   "id": "95c4708c",
   "metadata": {},
   "outputs": [],
   "source": [
    "\n",
    "texto2 = limpiar_texto(texto_prueba)\n",
    "print(normalizar_numeros(texto2))\n"
   ]
  },
  {
   "cell_type": "markdown",
   "id": "7d6fa180",
   "metadata": {},
   "source": [
    "## 🔤 Fase 3: Normalización de Mayúsculas con Reconocimiento de Entidades"
   ]
  },
  {
   "cell_type": "code",
   "execution_count": null,
   "id": "382666c4",
   "metadata": {},
   "outputs": [],
   "source": [
    "\n",
    "import spacy\n",
    "nlp = spacy.load(\"es_core_news_lg\")\n",
    "\n",
    "# Diccionario personalizado de marcas (simulado)\n",
    "marcas_manual = {\"Zara\", \"Nike\", \"Adidas\", \"iPhone\"}\n",
    "\n",
    "def normalizar_mayusculas(texto):\n",
    "    doc = nlp(texto)\n",
    "    resultado = []\n",
    "\n",
    "    for token in doc:\n",
    "        if token.text in marcas_manual:\n",
    "            resultado.append(token.text)\n",
    "        elif token.ent_type_ in {\"ORG\", \"LOC\", \"PRODUCT\", \"GPE\"}:\n",
    "            resultado.append(token.text)\n",
    "        elif token.text.startswith(\"#\"):\n",
    "            resultado.append(token.text)\n",
    "        else:\n",
    "            resultado.append(token.text.lower())\n",
    "    \n",
    "    return \" \".join(resultado)\n"
   ]
  },
  {
   "cell_type": "code",
   "execution_count": null,
   "id": "5dc4e79c",
   "metadata": {},
   "outputs": [],
   "source": [
    "\n",
    "texto_final = normalizar_mayusculas(normalizar_numeros(limpiar_texto(texto_prueba)))\n",
    "print(texto_final)\n"
   ]
  },
  {
   "cell_type": "markdown",
   "id": "082e8d64",
   "metadata": {},
   "source": [
    "## ✅ Verificación Final"
   ]
  },
  {
   "cell_type": "markdown",
   "id": "9deeb6bc",
   "metadata": {},
   "source": [
    "\n",
    "El resultado esperado debe conservar formatos y significado semántico útil para análisis de feedback comercial.  \n",
    "Ejemplo de salida:\n",
    "\n",
    "```\n",
    "🔥 oferta compre 2_unidades zapatos Nike a <USD>99.99 antes <NUM> 👟\n",
    "válido hasta el 2023-11-30 atención ¿envío gratis 😃 #ModaDeportiva2023\n",
    "```\n"
   ]
  }
 ],
 "metadata": {},
 "nbformat": 4,
 "nbformat_minor": 5
}
