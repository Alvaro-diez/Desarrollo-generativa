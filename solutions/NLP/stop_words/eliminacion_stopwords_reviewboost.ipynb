{
 "cells": [
  {
   "cell_type": "markdown",
   "id": "bd6088a6",
   "metadata": {},
   "source": [
    "# Práctica: Eliminación Contextual de Stopwords para Análisis de Reseñas de Productos\n",
    "\n",
    "**Contexto:** Eres un NLP Engineer en **ReviewBoost**, una startup que analiza reseñas de Amazon para identificar problemas críticos en productos."
   ]
  },
  {
   "cell_type": "markdown",
   "id": "e4b43c7d",
   "metadata": {},
   "source": [
    "## Fase 1: Análisis Inicial\n",
    "\n",
    "**Objetivo:** Entender cómo las stopwords por defecto afectan el significado en reseñas."
   ]
  },
  {
   "cell_type": "code",
   "execution_count": null,
   "id": "1eb86fe5",
   "metadata": {},
   "outputs": [],
   "source": [
    "\n",
    "import pandas as pd\n",
    "import spacy\n",
    "from collections import Counter\n",
    "\n",
    "# Cargar dataset\n",
    "df = pd.read_csv(\"comensarios_clintes.csv\")\n",
    "nlp = spacy.load(\"es_core_news_sm\")\n",
    "\n",
    "# Procesar texto y eliminar stopwords por defecto\n",
    "example = \"No recomiendo este producto. Aunque es barato, se rompió en dos días.\"\n",
    "doc = nlp(example)\n",
    "tokens = [token.text for token in doc if not token.is_stop and not token.is_punct]\n",
    "print(\"Tokens tras stopwords por defecto:\", tokens)\n",
    "\n",
    "# Mostrar stopwords eliminadas\n",
    "removed = [token.text for token in doc if token.is_stop]\n",
    "print(\"Stopwords eliminadas:\", removed)\n"
   ]
  },
  {
   "cell_type": "markdown",
   "id": "f02739a2",
   "metadata": {},
   "source": [
    "**Verificación:** Generar una tabla con 5 ejemplos donde la eliminación de stopwords alteró el significado."
   ]
  },
  {
   "cell_type": "markdown",
   "id": "b509a640",
   "metadata": {},
   "source": [
    "## Fase 2: Personalización de la Lista\n",
    "\n",
    "**Objetivo:** Crear una lista de stopwords adaptada a reseñas de productos."
   ]
  },
  {
   "cell_type": "code",
   "execution_count": null,
   "id": "196b85e2",
   "metadata": {},
   "outputs": [],
   "source": [
    "\n",
    "# Construir lista personalizada\n",
    "stopwords_es = nlp.Defaults.stop_words.copy()\n",
    "\n",
    "# Preservar negaciones y conectores\n",
    "for term in [\"no\",\"nunca\",\"tampoco\",\"pero\",\"aunque\",\"sin embargo\"]:\n",
    "    stopwords_es.discard(term)\n",
    "\n",
    "# Añadir términos genéricos y no informativos\n",
    "for term in [\"producto\",\"cliente\",\"día\",\"hola\",\"gracias\",\"pd\"]:\n",
    "    stopwords_es.add(term)\n",
    "\n",
    "print(\"Tamaño lista stopwords personalizada:\", len(stopwords_es))\n"
   ]
  },
  {
   "cell_type": "markdown",
   "id": "077dc0f9",
   "metadata": {},
   "source": [
    "## Fase 3: Implementación y Pruebas\n",
    "\n",
    "**Objetivo:** Validar que la lista personalizada preserva el contexto crítico."
   ]
  },
  {
   "cell_type": "code",
   "execution_count": null,
   "id": "7f8b9744",
   "metadata": {},
   "outputs": [],
   "source": [
    "\n",
    "# Función de procesamiento con stopwords personalizadas\n",
    "def procesar_texto(texto, stopwords):\n",
    "    doc = nlp(texto)\n",
    "    return [token.text.lower() for token in doc if token.text.lower() not in stopwords and not token.is_punct]\n",
    "\n",
    "# Casos de prueba\n",
    "casos = {\n",
    "    \"No funciona bien, pero el diseño es bonito.\": [\"no\",\"funciona\",\"bien\",\"pero\",\"diseño\",\"bonito\"],\n",
    "    \"Nunca compré algo tan malo. Aunque el precio es bajo, no lo vale.\": [\"nunca\",\"compré\",\"malo\",\"aunque\",\"precio\",\"bajo\",\"no\",\"vale\"]\n",
    "}\n",
    "\n",
    "for texto, esperado in casos.items():\n",
    "    resultado = procesar_texto(texto, stopwords_es)\n",
    "    print(f\"Input: {texto}\\nOutput: {resultado}\\nEsperado: {esperado}\\n\")\n"
   ]
  },
  {
   "cell_type": "markdown",
   "id": "72368568",
   "metadata": {},
   "source": [
    "**Verificación:** Debe preservarse 100% de términos clave en 20 casos de prueba."
   ]
  },
  {
   "cell_type": "markdown",
   "id": "fdb00a8f",
   "metadata": {},
   "source": [
    "## Fase 4: Evaluación de Impacto\n",
    "\n",
    "**Objetivo:** Medir cómo afecta la personalización al análisis de sentimiento."
   ]
  },
  {
   "cell_type": "code",
   "execution_count": null,
   "id": "5462e9dd",
   "metadata": {},
   "outputs": [],
   "source": [
    "\n",
    "from sklearn.feature_extraction.text import CountVectorizer\n",
    "from sklearn.linear_model import LogisticRegression\n",
    "from sklearn.model_selection import train_test_split\n",
    "from sklearn.metrics import accuracy_score\n",
    "\n",
    "# Supongamos que df tiene columnas 'texto' y 'etiqueta'\n",
    "# Crear columnas procesadas\n",
    "df['texto_default'] = df['texto'].apply(lambda x: \" \".join([t.text.lower() for t in nlp(x) if not t.is_stop and not t.is_punct]))\n",
    "df['texto_custom'] = df['texto'].apply(lambda x: \" \".join(procesar_texto(x, stopwords_es)))\n",
    "\n",
    "# Vectorización\n",
    "vec = CountVectorizer(max_features=1000)\n",
    "X_def = vec.fit_transform(df['texto_default'])\n",
    "X_cus = vec.fit_transform(df['texto_custom'])\n",
    "y = df['etiqueta']\n",
    "\n",
    "# Split\n",
    "X_train_def, X_test_def, y_train, y_test = train_test_split(X_def, y, test_size=0.2, random_state=42)\n",
    "X_train_cus, X_test_cus, _, _ = train_test_split(X_cus, y, test_size=0.2, random_state=42)\n",
    "\n",
    "# Modelos\n",
    "model = LogisticRegression()\n",
    "model.fit(X_train_def, y_train)\n",
    "acc_def = accuracy_score(y_test, model.predict(X_test_def))\n",
    "\n",
    "model.fit(X_train_cus, y_train)\n",
    "acc_cus = accuracy_score(y_test, model.predict(X_test_cus))\n",
    "\n",
    "print(\"Accuracy sin personalización:\", acc_def)\n",
    "print(\"Accuracy con personalización:\", acc_cus)\n"
   ]
  },
  {
   "cell_type": "markdown",
   "id": "11bedf89",
   "metadata": {},
   "source": [
    "## Entrega Final\n",
    "\n",
    "1. Script `stopwords_custom.py` con funciones de carga, procesamiento y evaluación.\n",
    "2. Archivo `.txt` con lista final de stopwords.\n",
    "3. Reporte con resultados de evaluación."
   ]
  }
 ],
 "metadata": {},
 "nbformat": 4,
 "nbformat_minor": 5
}
