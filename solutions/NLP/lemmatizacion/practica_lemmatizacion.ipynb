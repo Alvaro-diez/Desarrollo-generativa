{
 "cells": [
  {
   "cell_type": "markdown",
   "id": "74fe3e07",
   "metadata": {},
   "source": [
    "# Práctica: Lematización para Mejora de Análisis de Sentimiento en Reseñas Multilingües\n",
    "\n",
    "\n",
    "Implementar un pipeline de lematización que unifique variantes morfológicas y mejore la precisión de un modelo de análisis de sentimiento.\n"
   ]
  },
  {
   "cell_type": "markdown",
   "id": "426db39c",
   "metadata": {},
   "source": [
    "# Fase 0: Importacion de librerias necesarias"
   ]
  },
  {
   "cell_type": "code",
   "execution_count": 1,
   "id": "911d26df",
   "metadata": {},
   "outputs": [],
   "source": [
    "import pandas as pd\n",
    "import matplotlib.pyplot as plt\n",
    "from sklearn.feature_extraction.text import CountVectorizer\n",
    "import spacy\n",
    "from wordcloud import WordCloud\n",
    "\n"
   ]
  },
  {
   "cell_type": "markdown",
   "id": "9de7e6aa",
   "metadata": {},
   "source": [
    "## Fase 1: Diagnóstico de Problemas"
   ]
  },
  {
   "cell_type": "code",
   "execution_count": 2,
   "id": "68dc7605",
   "metadata": {},
   "outputs": [
    {
     "data": {
      "text/html": [
       "<div>\n",
       "<style scoped>\n",
       "    .dataframe tbody tr th:only-of-type {\n",
       "        vertical-align: middle;\n",
       "    }\n",
       "\n",
       "    .dataframe tbody tr th {\n",
       "        vertical-align: top;\n",
       "    }\n",
       "\n",
       "    .dataframe thead th {\n",
       "        text-align: right;\n",
       "    }\n",
       "</style>\n",
       "<table border=\"1\" class=\"dataframe\">\n",
       "  <thead>\n",
       "    <tr style=\"text-align: right;\">\n",
       "      <th></th>\n",
       "      <th>texto</th>\n",
       "      <th>idioma</th>\n",
       "      <th>sentimiento</th>\n",
       "    </tr>\n",
       "  </thead>\n",
       "  <tbody>\n",
       "    <tr>\n",
       "      <th>0</th>\n",
       "      <td>La interfaz intuitiva facilita la navegación i...</td>\n",
       "      <td>es</td>\n",
       "      <td>positivo</td>\n",
       "    </tr>\n",
       "    <tr>\n",
       "      <th>1</th>\n",
       "      <td>El rendimiento gráfico dejó mucho que desear e...</td>\n",
       "      <td>es</td>\n",
       "      <td>negativo</td>\n",
       "    </tr>\n",
       "    <tr>\n",
       "      <th>2</th>\n",
       "      <td>Constantes fallos de conectividad WiFi tras la...</td>\n",
       "      <td>es</td>\n",
       "      <td>negativo</td>\n",
       "    </tr>\n",
       "    <tr>\n",
       "      <th>3</th>\n",
       "      <td>Sorprendido por la autonomía de la batería en ...</td>\n",
       "      <td>es</td>\n",
       "      <td>positivo</td>\n",
       "    </tr>\n",
       "    <tr>\n",
       "      <th>4</th>\n",
       "      <td>El sistema operativo se bloquea recurrentement...</td>\n",
       "      <td>es</td>\n",
       "      <td>negativo</td>\n",
       "    </tr>\n",
       "  </tbody>\n",
       "</table>\n",
       "</div>"
      ],
      "text/plain": [
       "                                               texto idioma sentimiento\n",
       "0  La interfaz intuitiva facilita la navegación i...     es    positivo\n",
       "1  El rendimiento gráfico dejó mucho que desear e...     es    negativo\n",
       "2  Constantes fallos de conectividad WiFi tras la...     es    negativo\n",
       "3  Sorprendido por la autonomía de la batería en ...     es    positivo\n",
       "4  El sistema operativo se bloquea recurrentement...     es    negativo"
      ]
     },
     "execution_count": 2,
     "metadata": {},
     "output_type": "execute_result"
    }
   ],
   "source": [
    "df = pd.read_csv(\"reviews_multilang.csv\")\n",
    "df.head()\n"
   ]
  },
  {
   "cell_type": "code",
   "execution_count": 3,
   "id": "e4fc9ea6",
   "metadata": {},
   "outputs": [
    {
     "data": {
      "text/plain": [
       "texto          49\n",
       "idioma         49\n",
       "sentimiento    49\n",
       "dtype: int64"
      ]
     },
     "execution_count": 3,
     "metadata": {},
     "output_type": "execute_result"
    }
   ],
   "source": [
    "df.count()"
   ]
  },
  {
   "cell_type": "code",
   "execution_count": 4,
   "id": "d12884b8",
   "metadata": {},
   "outputs": [
    {
     "data": {
      "text/html": [
       "<div>\n",
       "<style scoped>\n",
       "    .dataframe tbody tr th:only-of-type {\n",
       "        vertical-align: middle;\n",
       "    }\n",
       "\n",
       "    .dataframe tbody tr th {\n",
       "        vertical-align: top;\n",
       "    }\n",
       "\n",
       "    .dataframe thead th {\n",
       "        text-align: right;\n",
       "    }\n",
       "</style>\n",
       "<table border=\"1\" class=\"dataframe\">\n",
       "  <thead>\n",
       "    <tr style=\"text-align: right;\">\n",
       "      <th></th>\n",
       "      <th>token</th>\n",
       "      <th>freq</th>\n",
       "    </tr>\n",
       "  </thead>\n",
       "  <tbody>\n",
       "    <tr>\n",
       "      <th>4</th>\n",
       "      <td>no</td>\n",
       "      <td>2</td>\n",
       "    </tr>\n",
       "    <tr>\n",
       "      <th>0</th>\n",
       "      <td>constantes</td>\n",
       "      <td>1</td>\n",
       "    </tr>\n",
       "    <tr>\n",
       "      <th>1</th>\n",
       "      <td>fallas</td>\n",
       "      <td>1</td>\n",
       "    </tr>\n",
       "    <tr>\n",
       "      <th>2</th>\n",
       "      <td>funciona</td>\n",
       "      <td>1</td>\n",
       "    </tr>\n",
       "    <tr>\n",
       "      <th>3</th>\n",
       "      <td>los</td>\n",
       "      <td>1</td>\n",
       "    </tr>\n",
       "    <tr>\n",
       "      <th>5</th>\n",
       "      <td>reportaron</td>\n",
       "      <td>1</td>\n",
       "    </tr>\n",
       "    <tr>\n",
       "      <th>6</th>\n",
       "      <td>responde</td>\n",
       "      <td>1</td>\n",
       "    </tr>\n",
       "    <tr>\n",
       "      <th>7</th>\n",
       "      <td>se</td>\n",
       "      <td>1</td>\n",
       "    </tr>\n",
       "    <tr>\n",
       "      <th>8</th>\n",
       "      <td>traba</td>\n",
       "      <td>1</td>\n",
       "    </tr>\n",
       "    <tr>\n",
       "      <th>9</th>\n",
       "      <td>usuarios</td>\n",
       "      <td>1</td>\n",
       "    </tr>\n",
       "  </tbody>\n",
       "</table>\n",
       "</div>"
      ],
      "text/plain": [
       "        token  freq\n",
       "4          no     2\n",
       "0  constantes     1\n",
       "1      fallas     1\n",
       "2    funciona     1\n",
       "3         los     1\n",
       "5  reportaron     1\n",
       "6    responde     1\n",
       "7          se     1\n",
       "8       traba     1\n",
       "9    usuarios     1"
      ]
     },
     "execution_count": 4,
     "metadata": {},
     "output_type": "execute_result"
    }
   ],
   "source": [
    "vectorizer = CountVectorizer()\n",
    "\n",
    "ej_critico = \"Los usuarios reportaron fallas constantes: no funciona, se traba y no responde.\"\n",
    "# X_counts = vectorizer.fit_transform(df[\"texto\"])  # columna de texto\n",
    "X_counts = vectorizer.fit_transform([ej_critico])\n",
    "token_freq = pd.DataFrame({'token': vectorizer.get_feature_names_out(), 'freq': X_counts.sum(axis=0).A1})\n",
    "token_freq.sort_values(by=\"freq\", ascending=False).head(10)\n"
   ]
  },
  {
   "cell_type": "code",
   "execution_count": 5,
   "id": "d48fff4d",
   "metadata": {},
   "outputs": [
    {
     "name": "stdout",
     "output_type": "stream",
     "text": [
      "Collecting es-core-news-sm==3.8.0\n",
      "  Downloading https://github.com/explosion/spacy-models/releases/download/es_core_news_sm-3.8.0/es_core_news_sm-3.8.0-py3-none-any.whl (12.9 MB)\n",
      "     --------------------------------------- 12.9/12.9 MB 28.5 MB/s eta 0:00:00\n",
      "\u001b[38;5;2m✔ Download and installation successful\u001b[0m\n",
      "You can now load the package via spacy.load('es_core_news_sm')\n"
     ]
    },
    {
     "name": "stderr",
     "output_type": "stream",
     "text": [
      "\n",
      "[notice] A new release of pip available: 22.3 -> 25.1.1\n",
      "[notice] To update, run: python.exe -m pip install --upgrade pip\n"
     ]
    }
   ],
   "source": [
    "!python -m spacy download es_core_news_sm"
   ]
  },
  {
   "cell_type": "code",
   "execution_count": 7,
   "id": "3de05ae4",
   "metadata": {},
   "outputs": [
    {
     "name": "stdout",
     "output_type": "stream",
     "text": [
      "Los DET False True\n",
      "usuarios NOUN False False\n",
      "reportaron VERB False False\n",
      "fallas NOUN False False\n",
      "constantes ADJ False False\n",
      ": PUNCT True False\n",
      "no ADV False True\n",
      "funciona VERB False False\n",
      ", PUNCT True False\n",
      "se PRON False True\n",
      "traba VERB False False\n",
      "y CCONJ False True\n",
      "no ADV False True\n",
      "responde VERB False False\n",
      ". PUNCT True False\n"
     ]
    }
   ],
   "source": [
    "nlp = spacy.load(\"es_core_news_sm\")\n",
    "doc = nlp(ej_critico)\n",
    "\n",
    "# for token in doc:\n",
    "#     print(token.text, token.pos_, token.lemma_)\n",
    "\n",
    "for token in doc:\n",
    "    print(token.text, token.pos_, token.is_punct, token.is_stop)\n"
   ]
  },
  {
   "cell_type": "code",
   "execution_count": null,
   "id": "82c2b9ae",
   "metadata": {},
   "outputs": [
    {
     "data": {
      "image/png": "[encoded data removed]",
      "text/plain": [
       "<Figure size 1000x600 with 1 Axes>"
      ]
     },
     "metadata": {},
     "output_type": "display_data"
    }
   ],
   "source": [
    "\n",
    "text = \" \".join([df[\"texto\"]])\n",
    "doc = nlp(text)\n",
    "lemmas = \" \".join([token.lemma_ for token in doc if not token.is_stop and not token.is_punct])\n",
    "wordcloud = WordCloud(background_color='white').generate(lemmas)\n",
    "\n",
    "plt.figure(figsize=(10, 6))\n",
    "plt.imshow(wordcloud, interpolation='bilinear')\n",
    "plt.axis('off')\n",
    "plt.show()\n"
   ]
  },
  {
   "cell_type": "code",
   "execution_count": 8,
   "id": "7f8d122d",
   "metadata": {},
   "outputs": [
    {
     "data": {
      "text/html": [
       "<div>\n",
       "<style scoped>\n",
       "    .dataframe tbody tr th:only-of-type {\n",
       "        vertical-align: middle;\n",
       "    }\n",
       "\n",
       "    .dataframe tbody tr th {\n",
       "        vertical-align: top;\n",
       "    }\n",
       "\n",
       "    .dataframe thead th {\n",
       "        text-align: right;\n",
       "    }\n",
       "</style>\n",
       "<table border=\"1\" class=\"dataframe\">\n",
       "  <thead>\n",
       "    <tr style=\"text-align: right;\">\n",
       "      <th></th>\n",
       "      <th>Forma Original</th>\n",
       "      <th>Lema</th>\n",
       "    </tr>\n",
       "  </thead>\n",
       "  <tbody>\n",
       "    <tr>\n",
       "      <th>0</th>\n",
       "      <td>fallas</td>\n",
       "      <td>falla</td>\n",
       "    </tr>\n",
       "    <tr>\n",
       "      <th>1</th>\n",
       "      <td>funciona</td>\n",
       "      <td>funcionar</td>\n",
       "    </tr>\n",
       "    <tr>\n",
       "      <th>2</th>\n",
       "      <td>trabó</td>\n",
       "      <td>trabar</td>\n",
       "    </tr>\n",
       "    <tr>\n",
       "      <th>3</th>\n",
       "      <td>responder</td>\n",
       "      <td>responder</td>\n",
       "    </tr>\n",
       "    <tr>\n",
       "      <th>4</th>\n",
       "      <td>reportaron</td>\n",
       "      <td>reportar</td>\n",
       "    </tr>\n",
       "  </tbody>\n",
       "</table>\n",
       "</div>"
      ],
      "text/plain": [
       "  Forma Original       Lema\n",
       "0         fallas      falla\n",
       "1       funciona  funcionar\n",
       "2          trabó     trabar\n",
       "3      responder  responder\n",
       "4     reportaron   reportar"
      ]
     },
     "execution_count": 8,
     "metadata": {},
     "output_type": "execute_result"
    }
   ],
   "source": [
    "\n",
    "variantes = [(\"fallas\", \"falla\"), (\"funciona\", \"funcionar\"), (\"trabó\", \"trabar\"), (\"responder\", \"responder\"), (\"reportaron\", \"reportar\")]\n",
    "pd.DataFrame(variantes, columns=[\"Forma Original\", \"Lema\"])\n"
   ]
  },
  {
   "cell_type": "markdown",
   "id": "2d88a3b2",
   "metadata": {},
   "source": [
    "## Fase 2: Implementación del Lematizador"
   ]
  },
  {
   "cell_type": "code",
   "execution_count": 9,
   "id": "b7553dcf",
   "metadata": {},
   "outputs": [
    {
     "name": "stdout",
     "output_type": "stream",
     "text": [
      "Requirement already satisfied: nltk in c:\\users\\alvar\\onedrive - tajamar\\iagen-desarrollo\\.venv\\lib\\site-packages (3.9.1)\n",
      "Requirement already satisfied: click in c:\\users\\alvar\\onedrive - tajamar\\iagen-desarrollo\\.venv\\lib\\site-packages (from nltk) (8.1.8)\n",
      "Requirement already satisfied: joblib in c:\\users\\alvar\\onedrive - tajamar\\iagen-desarrollo\\.venv\\lib\\site-packages (from nltk) (1.4.2)\n",
      "Requirement already satisfied: regex>=2021.8.3 in c:\\users\\alvar\\onedrive - tajamar\\iagen-desarrollo\\.venv\\lib\\site-packages (from nltk) (2024.11.6)\n",
      "Requirement already satisfied: tqdm in c:\\users\\alvar\\onedrive - tajamar\\iagen-desarrollo\\.venv\\lib\\site-packages (from nltk) (4.67.1)\n",
      "Requirement already satisfied: colorama in c:\\users\\alvar\\onedrive - tajamar\\iagen-desarrollo\\.venv\\lib\\site-packages (from click->nltk) (0.4.6)\n"
     ]
    },
    {
     "name": "stderr",
     "output_type": "stream",
     "text": [
      "\n",
      "[notice] A new release of pip available: 22.3 -> 25.1.1\n",
      "[notice] To update, run: python.exe -m pip install --upgrade pip\n"
     ]
    }
   ],
   "source": [
    "!pip install nltk"
   ]
  },
  {
   "cell_type": "code",
   "execution_count": 10,
   "id": "85b27b49",
   "metadata": {},
   "outputs": [],
   "source": [
    "from nltk.stem import WordNetLemmatizer\n",
    "from nltk.corpus import stopwords\n",
    "from nltk import pos_tag, word_tokenize\n",
    "from nltk.corpus import wordnet\n",
    "import nltk"
   ]
  },
  {
   "cell_type": "code",
   "execution_count": 11,
   "id": "72e8765f",
   "metadata": {},
   "outputs": [
    {
     "name": "stderr",
     "output_type": "stream",
     "text": [
      "[nltk_data] Downloading package punkt to\n",
      "[nltk_data]     C:\\Users\\alvar\\AppData\\Roaming\\nltk_data...\n",
      "[nltk_data]   Package punkt is already up-to-date!\n",
      "[nltk_data] Downloading package wordnet to\n",
      "[nltk_data]     C:\\Users\\alvar\\AppData\\Roaming\\nltk_data...\n",
      "[nltk_data]   Package wordnet is already up-to-date!\n",
      "[nltk_data] Downloading package averaged_perceptron_tagger to\n",
      "[nltk_data]     C:\\Users\\alvar\\AppData\\Roaming\\nltk_data...\n",
      "[nltk_data]   Package averaged_perceptron_tagger is already up-to-\n",
      "[nltk_data]       date!\n",
      "[nltk_data] Downloading package stopwords to\n",
      "[nltk_data]     C:\\Users\\alvar\\AppData\\Roaming\\nltk_data...\n",
      "[nltk_data]   Package stopwords is already up-to-date!\n"
     ]
    },
    {
     "data": {
      "text/plain": [
       "True"
      ]
     },
     "execution_count": 11,
     "metadata": {},
     "output_type": "execute_result"
    }
   ],
   "source": [
    "\n",
    "nltk.download('punkt')\n",
    "nltk.download('wordnet')\n",
    "nltk.download('averaged_perceptron_tagger')\n",
    "nltk.download('stopwords')"
   ]
  },
  {
   "cell_type": "code",
   "execution_count": null,
   "id": "d19e190e",
   "metadata": {},
   "outputs": [],
   "source": [
    "def get_wordnet_pos(treebank_tag):\n",
    "    if treebank_tag.startswith('J'):\n",
    "        return wordnet.ADJ\n",
    "    elif treebank_tag.startswith('V'):\n",
    "        return wordnet.VERB\n",
    "    elif treebank_tag.startswith('N'):\n",
    "        return wordnet.NOUN\n",
    "    elif treebank_tag.startswith('R'):\n",
    "        return wordnet.ADV\n",
    "    else:\n",
    "        return wordnet.NOUN\n",
    "\n",
    "def lematizar(texto, idioma):\n",
    "    if idioma == \"es\":\n",
    "        doc = spacy.load(\"es_core_news_sm\")(texto)\n",
    "        return [token.lemma_ for token in doc if not token.is_stop and not token.is_punct and not token.pos_ == ADV]\n",
    "    elif idioma == \"en\":\n",
    "        lemmatizer = WordNetLemmatizer()\n",
    "        tokens = word_tokenize(texto)\n",
    "        tagged = pos_tag(tokens)\n",
    "        return [lemmatizer.lemmatize(word, get_wordnet_pos(pos)) for word, pos in tagged if word.lower() not in stopwords.words(\"english\")]\n"
   ]
  },
  {
   "cell_type": "code",
   "execution_count": 13,
   "id": "1ef26210",
   "metadata": {},
   "outputs": [
    {
     "name": "stdout",
     "output_type": "stream",
     "text": [
      "['dispositivo', 'fallar', 'constantemente', 'funcionar']\n"
     ]
    }
   ],
   "source": [
    "\n",
    "print(lematizar(\"Los dispositivos fallaron constantemente, no funcionan bien.\", \"es\"))\n"
   ]
  },
  {
   "cell_type": "markdown",
   "id": "3602ac30",
   "metadata": {},
   "source": [
    "## Fase 3: Optimización y Validación"
   ]
  },
  {
   "cell_type": "code",
   "execution_count": 14,
   "id": "cf49c309",
   "metadata": {},
   "outputs": [],
   "source": [
    "from sklearn.ensemble import RandomForestClassifier\n",
    "from sklearn.model_selection import train_test_split\n",
    "from sklearn.metrics import f1_score\n",
    "from sklearn.feature_extraction.text import TfidfVectorizer\n"
   ]
  },
  {
   "cell_type": "code",
   "execution_count": 15,
   "id": "759afee9",
   "metadata": {},
   "outputs": [
    {
     "name": "stdout",
     "output_type": "stream",
     "text": [
      "(39, 245)\n",
      "(10, 245)\n",
      "(39,)\n",
      "(10,)\n"
     ]
    }
   ],
   "source": [
    "\n",
    "df[\"texto_lematizado\"] = df[\"texto\"].apply(lambda x: \" \".join(lematizar(x, \"es\")))\n",
    "\n",
    "vectorizer = TfidfVectorizer()\n",
    "x_lem = vectorizer.fit_transform(df[\"texto_lematizado\"])\n",
    "x_raw = TfidfVectorizer().fit_transform(df[\"texto\"])\n",
    "y = df[\"sentimiento\"]\n",
    "\n",
    "# Dividir el texto lematizado\n",
    "x_train, x_test, y_train, y_test = train_test_split(x_lem, y, test_size=0.2)\n",
    "\n",
    "print(x_train.shape)\n",
    "print(x_test.shape)\n",
    "print(y_train.shape)\n",
    "print(y_test.shape)"
   ]
  },
  {
   "cell_type": "code",
   "execution_count": 16,
   "id": "6b07c6b1",
   "metadata": {},
   "outputs": [],
   "source": [
    "clf = RandomForestClassifier().fit(x_train, y_train)\n"
   ]
  },
  {
   "cell_type": "code",
   "execution_count": 17,
   "id": "8d61b4c7",
   "metadata": {},
   "outputs": [
    {
     "name": "stdout",
     "output_type": "stream",
     "text": [
      "F1-score con lematización: 0.5833333333333333\n"
     ]
    }
   ],
   "source": [
    "preds = clf.predict(x_test)\n",
    "print(\"F1-score con lematización:\", f1_score(y_test, preds, average=\"macro\"))\n"
   ]
  },
  {
   "cell_type": "code",
   "execution_count": 18,
   "id": "3ef921cc",
   "metadata": {},
   "outputs": [
    {
     "name": "stdout",
     "output_type": "stream",
     "text": [
      "F1-score sin lematización: 0.6703296703296704\n"
     ]
    }
   ],
   "source": [
    "x_train2, x_test2, y_train2, y_test2 = train_test_split(x_raw, y, test_size=0.2)\n",
    "\n",
    "clf2 = RandomForestClassifier().fit(x_train2, y_train2)\n",
    "preds2 = clf2.predict(x_test2)\n",
    "print(\"F1-score sin lematización:\", f1_score(y_test2, preds2, average=\"macro\"))\n"
   ]
  },
  {
   "cell_type": "markdown",
   "id": "1348726b",
   "metadata": {},
   "source": [
    "## Fase 4: Evaluación Comparativa"
   ]
  },
  {
   "cell_type": "code",
   "execution_count": 19,
   "id": "050d8105",
   "metadata": {},
   "outputs": [
    {
     "name": "stdout",
     "output_type": "stream",
     "text": [
      "Reducción de vocabulario: 13.12 %\n"
     ]
    }
   ],
   "source": [
    "\n",
    "vocab_size_raw = len(TfidfVectorizer().fit(df[\"texto\"]).vocabulary_)\n",
    "vocab_size_lem = len(TfidfVectorizer().fit(df[\"texto_lematizado\"]).vocabulary_)\n",
    "print(\"Reducción de vocabulario:\", round((vocab_size_raw - vocab_size_lem) / vocab_size_raw * 100, 2), \"%\")\n"
   ]
  }
 ],
 "metadata": {
  "kernelspec": {
   "display_name": ".venv",
   "language": "python",
   "name": "python3"
  },
  "language_info": {
   "codemirror_mode": {
    "name": "ipython",
    "version": 3
   },
   "file_extension": ".py",
   "mimetype": "text/x-python",
   "name": "python",
   "nbconvert_exporter": "python",
   "pygments_lexer": "ipython3",
   "version": "3.11.0"
  }
 },
 "nbformat": 4,
 "nbformat_minor": 5
}
